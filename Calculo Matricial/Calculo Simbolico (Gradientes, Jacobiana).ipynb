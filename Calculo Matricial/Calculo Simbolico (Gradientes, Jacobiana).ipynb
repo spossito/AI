{
 "cells": [
  {
   "cell_type": "markdown",
   "metadata": {},
   "source": [
    "# **Librerias**"
   ]
  },
  {
   "cell_type": "code",
   "execution_count": 1,
   "metadata": {},
   "outputs": [
    {
     "name": "stdout",
     "output_type": "stream",
     "text": [
      "Sympy Version: 1.13.1\n",
      "Pytorch Version: 2.5.1+cpu\n"
     ]
    }
   ],
   "source": [
    "# Importamos \n",
    "\n",
    "import torch\n",
    "import sympy \n",
    "import warnings\n",
    "\n",
    "from torch.func import jacrev\n",
    "from sympy.printing import latex\n",
    "from IPython.display import display, Math\n",
    "\n",
    "# Logging \n",
    "\n",
    "warnings.filterwarnings('ignore', category = UserWarning)\n",
    "\n",
    "# Version \n",
    "\n",
    "print(f'Sympy Version: {sympy.__version__}')\n",
    "print(f'Pytorch Version: {torch.__version__}')"
   ]
  },
  {
   "cell_type": "markdown",
   "metadata": {},
   "source": [
    "# **Gradiente**"
   ]
  },
  {
   "cell_type": "markdown",
   "metadata": {},
   "source": [
    "### **Ejercicio #1**\n",
    "\n",
    "**Funcion:**\n",
    "\n",
    "$$F(X) = \\text{Tr}(XA)$$\n",
    "\n",
    "**Derivada:**\n",
    "\n",
    "$$df(X) = \\text{Tr}(AdX)$$\n",
    "\n",
    "**Gradiente:** \n",
    "\n",
    "$$(\\nabla X)^T = A$$\n",
    "$$\\nabla X = A^T$$"
   ]
  },
  {
   "cell_type": "code",
   "execution_count": 2,
   "metadata": {},
   "outputs": [
    {
     "name": "stdout",
     "output_type": "stream",
     "text": [
      "Funcion Escalar:\n"
     ]
    },
    {
     "data": {
      "text/latex": [
       "$\\displaystyle F(X) = {Tr}(XA)$"
      ],
      "text/plain": [
       "<IPython.core.display.Math object>"
      ]
     },
     "metadata": {},
     "output_type": "display_data"
    },
    {
     "name": "stdout",
     "output_type": "stream",
     "text": [
      "\n",
      "\n",
      "Definicion de Matrices:\n"
     ]
    },
    {
     "data": {
      "text/latex": [
       "$\\displaystyle A = \\left[\\begin{matrix}a_{1} & a_{2}\\\\a_{3} & a_{4}\\\\a_{5} & a_{6}\\end{matrix}\\right], \\quad X = \\left[\\begin{matrix}x_{1} & x_{2} & x_{3}\\\\x_{4} & x_{5} & x_{6}\\end{matrix}\\right]$"
      ],
      "text/plain": [
       "<IPython.core.display.Math object>"
      ]
     },
     "metadata": {},
     "output_type": "display_data"
    },
    {
     "name": "stdout",
     "output_type": "stream",
     "text": [
      "\n",
      "\n",
      "Operacion #1:\n"
     ]
    },
    {
     "data": {
      "text/latex": [
       "$\\displaystyle C = X \\cdot A$"
      ],
      "text/plain": [
       "<IPython.core.display.Math object>"
      ]
     },
     "metadata": {},
     "output_type": "display_data"
    },
    {
     "data": {
      "text/latex": [
       "$\\displaystyle C = \\left[\\begin{matrix}a_{1} x_{1} + a_{3} x_{2} + a_{5} x_{3} & a_{2} x_{1} + a_{4} x_{2} + a_{6} x_{3}\\\\a_{1} x_{4} + a_{3} x_{5} + a_{5} x_{6} & a_{2} x_{4} + a_{4} x_{5} + a_{6} x_{6}\\end{matrix}\\right]$"
      ],
      "text/plain": [
       "<IPython.core.display.Math object>"
      ]
     },
     "metadata": {},
     "output_type": "display_data"
    },
    {
     "name": "stdout",
     "output_type": "stream",
     "text": [
      "\n",
      "\n",
      "Salida de la Funcion Escalar:\n"
     ]
    },
    {
     "data": {
      "text/latex": [
       "$\\displaystyle F(X) = {Tr}(C)$"
      ],
      "text/plain": [
       "<IPython.core.display.Math object>"
      ]
     },
     "metadata": {},
     "output_type": "display_data"
    },
    {
     "data": {
      "text/latex": [
       "$\\displaystyle F(X) = a_{1} x_{1} + a_{2} x_{4} + a_{3} x_{2} + a_{4} x_{5} + a_{5} x_{3} + a_{6} x_{6}$"
      ],
      "text/plain": [
       "<IPython.core.display.Math object>"
      ]
     },
     "metadata": {},
     "output_type": "display_data"
    },
    {
     "name": "stdout",
     "output_type": "stream",
     "text": [
      "\n",
      "\n",
      "Gradiente Simbolico:\n"
     ]
    },
    {
     "data": {
      "text/latex": [
       "$\\displaystyle \\nabla_X = \\begin{bmatrix}\\frac{\\partial F}{\\partial X_{1,1}} & \\frac{\\partial F}{\\partial X_{1,2}} & \\frac{\\partial F}{\\partial X_{1,3}} \\\\[1pt] \\\\\\frac{\\partial F}{\\partial X_{2,1}} & \\frac{\\partial F}{\\partial X_{2,2}} & \\frac{\\partial F}{\\partial X_{2,3}} \\\\[1pt]\\end{bmatrix}$"
      ],
      "text/plain": [
       "<IPython.core.display.Math object>"
      ]
     },
     "metadata": {},
     "output_type": "display_data"
    },
    {
     "data": {
      "text/latex": [
       "$\\displaystyle \\nabla_X = \\begin{bmatrix}\\frac{\\partial F}{\\partial x_{1}} & \\frac{\\partial F}{\\partial x_{2}} & \\frac{\\partial F}{\\partial x_{3}} \\\\[1pt] \\\\\\frac{\\partial F}{\\partial x_{4}} & \\frac{\\partial F}{\\partial x_{5}} & \\frac{\\partial F}{\\partial x_{6}} \\\\[1pt]\\end{bmatrix}$"
      ],
      "text/plain": [
       "<IPython.core.display.Math object>"
      ]
     },
     "metadata": {},
     "output_type": "display_data"
    },
    {
     "data": {
      "text/latex": [
       "$\\displaystyle \\nabla_X = \\left[\\begin{matrix}a_{1} & a_{3} & a_{5}\\\\a_{2} & a_{4} & a_{6}\\end{matrix}\\right]$"
      ],
      "text/plain": [
       "<IPython.core.display.Math object>"
      ]
     },
     "metadata": {},
     "output_type": "display_data"
    },
    {
     "name": "stdout",
     "output_type": "stream",
     "text": [
      "\n",
      "\n",
      "Gradiente Formula:\n"
     ]
    },
    {
     "data": {
      "text/latex": [
       "$\\displaystyle \\nabla_X = A^T$"
      ],
      "text/plain": [
       "<IPython.core.display.Math object>"
      ]
     },
     "metadata": {},
     "output_type": "display_data"
    },
    {
     "data": {
      "text/latex": [
       "$\\displaystyle \\nabla_X = \\left[\\begin{matrix}a_{1} & a_{3} & a_{5}\\\\a_{2} & a_{4} & a_{6}\\end{matrix}\\right]$"
      ],
      "text/plain": [
       "<IPython.core.display.Math object>"
      ]
     },
     "metadata": {},
     "output_type": "display_data"
    }
   ],
   "source": [
    "# Definimos los coeficientes de ambas matrices\n",
    "\n",
    "a1, a2, a3, a4, a5, a6 = sympy.symbols(names = 'a_{1} a_{2} a_{3} a_{4} a_{5} a_{6}')\n",
    "x1, x2, x3, x4, x5, x6 = sympy.symbols(names = 'x_{1} x_{2} x_{3} x_{4} x_{5} x_{6}')\n",
    "\n",
    "# Definimos las matrices\n",
    "\n",
    "A = sympy.Matrix([[a1, a2], [a3, a4], [a5, a6]])\n",
    "X = sympy.Matrix([[x1, x2, x3], [x4, x5, x6]])\n",
    "\n",
    "# Definimos la Funcion Escalar\n",
    "\n",
    "fn = sympy.trace(X @ A)\n",
    "\n",
    "# Calculamos el Gradiente Simbolico \n",
    "\n",
    "gradient_symbolic_teory_1 = sympy.Matrix.zeros(X.shape[0], X.shape[1])\n",
    "gradient_symbolic_teory_2 = sympy.Matrix.zeros(X.shape[0], X.shape[1])\n",
    "\n",
    "for row in range(0, X.shape[0]):\n",
    "    for col in range(0, X.shape[1]):\n",
    "        gradient_symbolic_teory_1[row, col] = sympy.Symbol(fr\"\\frac{{\\partial F}}{{\\partial X_{{{row+1},{col+1}}}}}\")\n",
    "        gradient_symbolic_teory_2[row, col] = sympy.Symbol(fr\"\\frac{{\\partial F}}{{\\partial {X[row, col]}}}\")\n",
    "        \n",
    "gradient_symbolic_latex_1 = r\"\\begin{bmatrix}\" + r\" \\\\\".join(\" & \".join(str(gradient_symbolic_teory_1[row, col]) for col in range(X.shape[1])) + r\" \\\\[1pt]\" for row in range(X.shape[0])) + r\"\\end{bmatrix}\"\n",
    "gradient_symbolic_latex_2 = r\"\\begin{bmatrix}\" + r\" \\\\\".join(\" & \".join(str(gradient_symbolic_teory_2[row, col]) for col in range(X.shape[1])) + r\" \\\\[1pt]\" for row in range(X.shape[0])) + r\"\\end{bmatrix}\"\n",
    "\n",
    "# Calculamos el Gradiente\n",
    "\n",
    "gradient = sympy.Matrix.zeros(X.shape[0], X.shape[1])\n",
    "\n",
    "for row in range(0, X.shape[0]):\n",
    "    for col in range(0, X.shape[1]):\n",
    "        gradient[row, col] = sympy.diff(fn, X[row, col])\n",
    "        \n",
    "# Calculamos el Gradiente por Formula\n",
    "\n",
    "gradient_formula = A.T\n",
    "\n",
    "# Visualizamos \n",
    "\n",
    "print('Funcion Escalar:')\n",
    "display(Math('F(X) = {Tr}(XA)'))\n",
    "print(f'\\n')\n",
    "print('Definicion de Matrices:')\n",
    "display(Math(f\"A = {latex(A)}, \\\\quad X = {latex(X)}\"))\n",
    "print(f'\\n')\n",
    "print(f'Operacion #1:')\n",
    "display(Math('C = X \\cdot A'))\n",
    "display(Math(f\"C = {latex(X @ A)}\"))\n",
    "print(f'\\n')\n",
    "print(f'Salida de la Funcion Escalar:')\n",
    "display(Math('F(X) = {Tr}(C)'))\n",
    "display(Math(f\"F(X) = {latex(fn)}\"))\n",
    "print(f'\\n')\n",
    "print(f'Gradiente Simbolico:')\n",
    "display(Math(r\"\\nabla_X = \" + gradient_symbolic_latex_1))\n",
    "display(Math(r\"\\nabla_X = \" + gradient_symbolic_latex_2))\n",
    "display(Math(r\"\\nabla_X = \" + latex(gradient)))\n",
    "print(f'\\n')\n",
    "print(f'Gradiente Formula:')\n",
    "display(Math(r\"\\nabla_X = A^T\"))\n",
    "display(Math(r\"\\nabla_X = \" + latex(gradient_formula)))"
   ]
  },
  {
   "cell_type": "code",
   "execution_count": 3,
   "metadata": {},
   "outputs": [
    {
     "name": "stdout",
     "output_type": "stream",
     "text": [
      "El Gradiente Respecto a X: \n",
      "tensor([[2., 6., 4.],\n",
      "        [8., 1., 3.]])\n"
     ]
    }
   ],
   "source": [
    "# Definimos las Matrices\n",
    "\n",
    "X = torch.tensor([[1.0, 2.0, 7.0], [3.0, 4.0, 9.0]], requires_grad = True)\n",
    "A = torch.tensor([[2.0, 8.0], [6.0, 1.0], [4.0, 3.0]], requires_grad = False)\n",
    "\n",
    "# Definimos la Funcion Escalar\n",
    "\n",
    "def fn(X, A):\n",
    "    \n",
    "    output = torch.trace(torch.matmul(X, A)) \n",
    "    \n",
    "    return output \n",
    "\n",
    "# Calculamos el Gradiente \n",
    "\n",
    "gradient = jacrev(fn, argnums = 0)(X, A)\n",
    "\n",
    "# Visualizamos un ejemplo numerico\n",
    "\n",
    "print(f'El Gradiente Respecto a X: \\n{gradient}')"
   ]
  },
  {
   "cell_type": "markdown",
   "metadata": {},
   "source": [
    "### **Ejercicio #2**\n",
    "\n",
    "**Funcion:**\n",
    "\n",
    "$$F(X) = \\text{Tr}(XXA)$$\n",
    "\n",
    "**Derivada:**\n",
    "\n",
    "$$df(X) = \\text{Tr}(AXdX) +  \\text{Tr}(XAdX)$$\n",
    "\n",
    "**Gradiente:** \n",
    "\n",
    "$$(\\nabla X)^T = AX + XA$$\n",
    "$$\\nabla X = (AX + XA)^T$$"
   ]
  },
  {
   "cell_type": "code",
   "execution_count": 4,
   "metadata": {},
   "outputs": [
    {
     "name": "stdout",
     "output_type": "stream",
     "text": [
      "Funcion Escalar:\n"
     ]
    },
    {
     "data": {
      "text/latex": [
       "$\\displaystyle F(X) = {Tr}(XXA)$"
      ],
      "text/plain": [
       "<IPython.core.display.Math object>"
      ]
     },
     "metadata": {},
     "output_type": "display_data"
    },
    {
     "name": "stdout",
     "output_type": "stream",
     "text": [
      "\n",
      "\n",
      "Definicion de Matrices:\n"
     ]
    },
    {
     "data": {
      "text/latex": [
       "$\\displaystyle A = \\left[\\begin{matrix}a_{1} & a_{2} & a_{3}\\\\a_{4} & a_{5} & a_{6}\\\\a_{7} & a_{8} & a_{9}\\end{matrix}\\right], \\quad X = \\left[\\begin{matrix}x_{1} & x_{2} & x_{3}\\\\x_{4} & x_{5} & x_{6}\\\\x_{7} & x_{8} & x_{9}\\end{matrix}\\right]$"
      ],
      "text/plain": [
       "<IPython.core.display.Math object>"
      ]
     },
     "metadata": {},
     "output_type": "display_data"
    },
    {
     "name": "stdout",
     "output_type": "stream",
     "text": [
      "\n",
      "\n",
      "Operacion #1:\n"
     ]
    },
    {
     "data": {
      "text/latex": [
       "$\\displaystyle C = X \\cdot X$"
      ],
      "text/plain": [
       "<IPython.core.display.Math object>"
      ]
     },
     "metadata": {},
     "output_type": "display_data"
    },
    {
     "data": {
      "text/latex": [
       "$\\displaystyle C = \\left[\\begin{matrix}x_{1}^{2} + x_{2} x_{4} + x_{3} x_{7} & x_{1} x_{2} + x_{2} x_{5} + x_{3} x_{8} & x_{1} x_{3} + x_{2} x_{6} + x_{3} x_{9}\\\\x_{1} x_{4} + x_{4} x_{5} + x_{6} x_{7} & x_{2} x_{4} + x_{5}^{2} + x_{6} x_{8} & x_{3} x_{4} + x_{5} x_{6} + x_{6} x_{9}\\\\x_{1} x_{7} + x_{4} x_{8} + x_{7} x_{9} & x_{2} x_{7} + x_{5} x_{8} + x_{8} x_{9} & x_{3} x_{7} + x_{6} x_{8} + x_{9}^{2}\\end{matrix}\\right]$"
      ],
      "text/plain": [
       "<IPython.core.display.Math object>"
      ]
     },
     "metadata": {},
     "output_type": "display_data"
    },
    {
     "name": "stdout",
     "output_type": "stream",
     "text": [
      "\n",
      "\n",
      "Operacion #2:\n"
     ]
    },
    {
     "data": {
      "text/latex": [
       "$\\displaystyle D = C \\cdot A$"
      ],
      "text/plain": [
       "<IPython.core.display.Math object>"
      ]
     },
     "metadata": {},
     "output_type": "display_data"
    },
    {
     "data": {
      "text/latex": [
       "$\\displaystyle D = \\left[\\begin{matrix}a_{1} \\left(x_{1}^{2} + x_{2} x_{4} + x_{3} x_{7}\\right) + a_{4} \\left(x_{1} x_{2} + x_{2} x_{5} + x_{3} x_{8}\\right) + a_{7} \\left(x_{1} x_{3} + x_{2} x_{6} + x_{3} x_{9}\\right) & a_{2} \\left(x_{1}^{2} + x_{2} x_{4} + x_{3} x_{7}\\right) + a_{5} \\left(x_{1} x_{2} + x_{2} x_{5} + x_{3} x_{8}\\right) + a_{8} \\left(x_{1} x_{3} + x_{2} x_{6} + x_{3} x_{9}\\right) & a_{3} \\left(x_{1}^{2} + x_{2} x_{4} + x_{3} x_{7}\\right) + a_{6} \\left(x_{1} x_{2} + x_{2} x_{5} + x_{3} x_{8}\\right) + a_{9} \\left(x_{1} x_{3} + x_{2} x_{6} + x_{3} x_{9}\\right)\\\\a_{1} \\left(x_{1} x_{4} + x_{4} x_{5} + x_{6} x_{7}\\right) + a_{4} \\left(x_{2} x_{4} + x_{5}^{2} + x_{6} x_{8}\\right) + a_{7} \\left(x_{3} x_{4} + x_{5} x_{6} + x_{6} x_{9}\\right) & a_{2} \\left(x_{1} x_{4} + x_{4} x_{5} + x_{6} x_{7}\\right) + a_{5} \\left(x_{2} x_{4} + x_{5}^{2} + x_{6} x_{8}\\right) + a_{8} \\left(x_{3} x_{4} + x_{5} x_{6} + x_{6} x_{9}\\right) & a_{3} \\left(x_{1} x_{4} + x_{4} x_{5} + x_{6} x_{7}\\right) + a_{6} \\left(x_{2} x_{4} + x_{5}^{2} + x_{6} x_{8}\\right) + a_{9} \\left(x_{3} x_{4} + x_{5} x_{6} + x_{6} x_{9}\\right)\\\\a_{1} \\left(x_{1} x_{7} + x_{4} x_{8} + x_{7} x_{9}\\right) + a_{4} \\left(x_{2} x_{7} + x_{5} x_{8} + x_{8} x_{9}\\right) + a_{7} \\left(x_{3} x_{7} + x_{6} x_{8} + x_{9}^{2}\\right) & a_{2} \\left(x_{1} x_{7} + x_{4} x_{8} + x_{7} x_{9}\\right) + a_{5} \\left(x_{2} x_{7} + x_{5} x_{8} + x_{8} x_{9}\\right) + a_{8} \\left(x_{3} x_{7} + x_{6} x_{8} + x_{9}^{2}\\right) & a_{3} \\left(x_{1} x_{7} + x_{4} x_{8} + x_{7} x_{9}\\right) + a_{6} \\left(x_{2} x_{7} + x_{5} x_{8} + x_{8} x_{9}\\right) + a_{9} \\left(x_{3} x_{7} + x_{6} x_{8} + x_{9}^{2}\\right)\\end{matrix}\\right]$"
      ],
      "text/plain": [
       "<IPython.core.display.Math object>"
      ]
     },
     "metadata": {},
     "output_type": "display_data"
    },
    {
     "name": "stdout",
     "output_type": "stream",
     "text": [
      "\n",
      "\n",
      "Salida de la Funcion Escalar:\n"
     ]
    },
    {
     "data": {
      "text/latex": [
       "$\\displaystyle F(X) = {Tr}(D)$"
      ],
      "text/plain": [
       "<IPython.core.display.Math object>"
      ]
     },
     "metadata": {},
     "output_type": "display_data"
    },
    {
     "data": {
      "text/latex": [
       "$\\displaystyle F(X) = a_{1} \\left(x_{1}^{2} + x_{2} x_{4} + x_{3} x_{7}\\right) + a_{2} \\left(x_{1} x_{4} + x_{4} x_{5} + x_{6} x_{7}\\right) + a_{3} \\left(x_{1} x_{7} + x_{4} x_{8} + x_{7} x_{9}\\right) + a_{4} \\left(x_{1} x_{2} + x_{2} x_{5} + x_{3} x_{8}\\right) + a_{5} \\left(x_{2} x_{4} + x_{5}^{2} + x_{6} x_{8}\\right) + a_{6} \\left(x_{2} x_{7} + x_{5} x_{8} + x_{8} x_{9}\\right) + a_{7} \\left(x_{1} x_{3} + x_{2} x_{6} + x_{3} x_{9}\\right) + a_{8} \\left(x_{3} x_{4} + x_{5} x_{6} + x_{6} x_{9}\\right) + a_{9} \\left(x_{3} x_{7} + x_{6} x_{8} + x_{9}^{2}\\right)$"
      ],
      "text/plain": [
       "<IPython.core.display.Math object>"
      ]
     },
     "metadata": {},
     "output_type": "display_data"
    },
    {
     "name": "stdout",
     "output_type": "stream",
     "text": [
      "\n",
      "\n",
      "Gradiente Simbolico:\n"
     ]
    },
    {
     "data": {
      "text/latex": [
       "$\\displaystyle \\nabla_X = \\begin{bmatrix}\\frac{\\partial F}{\\partial X_{1,1}} & \\frac{\\partial F}{\\partial X_{1,2}} & \\frac{\\partial F}{\\partial X_{1,3}} \\\\[1pt] \\\\\\frac{\\partial F}{\\partial X_{2,1}} & \\frac{\\partial F}{\\partial X_{2,2}} & \\frac{\\partial F}{\\partial X_{2,3}} \\\\[1pt] \\\\\\frac{\\partial F}{\\partial X_{3,1}} & \\frac{\\partial F}{\\partial X_{3,2}} & \\frac{\\partial F}{\\partial X_{3,3}} \\\\[1pt]\\end{bmatrix}$"
      ],
      "text/plain": [
       "<IPython.core.display.Math object>"
      ]
     },
     "metadata": {},
     "output_type": "display_data"
    },
    {
     "data": {
      "text/latex": [
       "$\\displaystyle \\nabla_X = \\begin{bmatrix}\\frac{\\partial F}{\\partial x_{1}} & \\frac{\\partial F}{\\partial x_{2}} & \\frac{\\partial F}{\\partial x_{3}} \\\\[1pt] \\\\\\frac{\\partial F}{\\partial x_{4}} & \\frac{\\partial F}{\\partial x_{5}} & \\frac{\\partial F}{\\partial x_{6}} \\\\[1pt] \\\\\\frac{\\partial F}{\\partial x_{7}} & \\frac{\\partial F}{\\partial x_{8}} & \\frac{\\partial F}{\\partial x_{9}} \\\\[1pt]\\end{bmatrix}$"
      ],
      "text/plain": [
       "<IPython.core.display.Math object>"
      ]
     },
     "metadata": {},
     "output_type": "display_data"
    },
    {
     "data": {
      "text/latex": [
       "$\\displaystyle \\nabla_X = \\left[\\begin{matrix}2 a_{1} x_{1} + a_{2} x_{4} + a_{3} x_{7} + a_{4} x_{2} + a_{7} x_{3} & a_{1} x_{4} + a_{4} \\left(x_{1} + x_{5}\\right) + a_{5} x_{4} + a_{6} x_{7} + a_{7} x_{6} & a_{1} x_{7} + a_{4} x_{8} + a_{7} \\left(x_{1} + x_{9}\\right) + a_{8} x_{4} + a_{9} x_{7}\\\\a_{1} x_{2} + a_{2} \\left(x_{1} + x_{5}\\right) + a_{3} x_{8} + a_{5} x_{2} + a_{8} x_{3} & a_{2} x_{4} + a_{4} x_{2} + 2 a_{5} x_{5} + a_{6} x_{8} + a_{8} x_{6} & a_{2} x_{7} + a_{5} x_{8} + a_{7} x_{2} + a_{8} \\left(x_{5} + x_{9}\\right) + a_{9} x_{8}\\\\a_{1} x_{3} + a_{2} x_{6} + a_{3} \\left(x_{1} + x_{9}\\right) + a_{6} x_{2} + a_{9} x_{3} & a_{3} x_{4} + a_{4} x_{3} + a_{5} x_{6} + a_{6} \\left(x_{5} + x_{9}\\right) + a_{9} x_{6} & a_{3} x_{7} + a_{6} x_{8} + a_{7} x_{3} + a_{8} x_{6} + 2 a_{9} x_{9}\\end{matrix}\\right]$"
      ],
      "text/plain": [
       "<IPython.core.display.Math object>"
      ]
     },
     "metadata": {},
     "output_type": "display_data"
    },
    {
     "name": "stdout",
     "output_type": "stream",
     "text": [
      "\n",
      "\n",
      "Gradiente Formula:\n"
     ]
    },
    {
     "data": {
      "text/latex": [
       "$\\displaystyle \\nabla_X = (AX + XA)^T$"
      ],
      "text/plain": [
       "<IPython.core.display.Math object>"
      ]
     },
     "metadata": {},
     "output_type": "display_data"
    },
    {
     "data": {
      "text/latex": [
       "$\\displaystyle \\nabla_X = \\left[\\begin{matrix}2 a_{1} x_{1} + a_{2} x_{4} + a_{3} x_{7} + a_{4} x_{2} + a_{7} x_{3} & a_{1} x_{4} + a_{4} x_{1} + a_{4} x_{5} + a_{5} x_{4} + a_{6} x_{7} + a_{7} x_{6} & a_{1} x_{7} + a_{4} x_{8} + a_{7} x_{1} + a_{7} x_{9} + a_{8} x_{4} + a_{9} x_{7}\\\\a_{1} x_{2} + a_{2} x_{1} + a_{2} x_{5} + a_{3} x_{8} + a_{5} x_{2} + a_{8} x_{3} & a_{2} x_{4} + a_{4} x_{2} + 2 a_{5} x_{5} + a_{6} x_{8} + a_{8} x_{6} & a_{2} x_{7} + a_{5} x_{8} + a_{7} x_{2} + a_{8} x_{5} + a_{8} x_{9} + a_{9} x_{8}\\\\a_{1} x_{3} + a_{2} x_{6} + a_{3} x_{1} + a_{3} x_{9} + a_{6} x_{2} + a_{9} x_{3} & a_{3} x_{4} + a_{4} x_{3} + a_{5} x_{6} + a_{6} x_{5} + a_{6} x_{9} + a_{9} x_{6} & a_{3} x_{7} + a_{6} x_{8} + a_{7} x_{3} + a_{8} x_{6} + 2 a_{9} x_{9}\\end{matrix}\\right]$"
      ],
      "text/plain": [
       "<IPython.core.display.Math object>"
      ]
     },
     "metadata": {},
     "output_type": "display_data"
    }
   ],
   "source": [
    "# Definimos los coeficientes de ambas matrices\n",
    "\n",
    "a1, a2, a3, a4, a5, a6, a7, a8, a9 = sympy.symbols(names = 'a_{1} a_{2} a_{3} a_{4} a_{5} a_{6} a_{7} a_{8} a_{9}')\n",
    "x1, x2, x3, x4, x5, x6, x7, x8, x9 = sympy.symbols(names = 'x_{1} x_{2} x_{3} x_{4} x_{5} x_{6} x_{7} x_{8} x_{9}')\n",
    "\n",
    "# Definimos las matrices\n",
    "\n",
    "A = sympy.Matrix([[a1, a2, a3], [a4, a5, a6], [a7, a8, a9]])\n",
    "X = sympy.Matrix([[x1, x2, x3], [x4, x5, x6], [x7, x8, x9]])\n",
    "\n",
    "# Definimos la Funcion Escalar\n",
    "\n",
    "fn = sympy.trace(X @ X @ A)\n",
    "\n",
    "# Calculamos el Gradiente Simbolico \n",
    "\n",
    "gradient_symbolic_teory_1 = sympy.Matrix.zeros(X.shape[0], X.shape[1])\n",
    "gradient_symbolic_teory_2 = sympy.Matrix.zeros(X.shape[0], X.shape[1])\n",
    "\n",
    "for row in range(0, X.shape[0]):\n",
    "    for col in range(0, X.shape[1]):\n",
    "        gradient_symbolic_teory_1[row, col] = sympy.Symbol(fr\"\\frac{{\\partial F}}{{\\partial X_{{{row+1},{col+1}}}}}\")\n",
    "        gradient_symbolic_teory_2[row, col] = sympy.Symbol(fr\"\\frac{{\\partial F}}{{\\partial {X[row, col]}}}\")\n",
    "        \n",
    "gradient_symbolic_latex_1 = r\"\\begin{bmatrix}\" + r\" \\\\\".join(\" & \".join(str(gradient_symbolic_teory_1[row, col]) for col in range(X.shape[1])) + r\" \\\\[1pt]\" for row in range(X.shape[0])) + r\"\\end{bmatrix}\"\n",
    "gradient_symbolic_latex_2 = r\"\\begin{bmatrix}\" + r\" \\\\\".join(\" & \".join(str(gradient_symbolic_teory_2[row, col]) for col in range(X.shape[1])) + r\" \\\\[1pt]\" for row in range(X.shape[0])) + r\"\\end{bmatrix}\"\n",
    "\n",
    "# Calculamos el Gradiente\n",
    "\n",
    "gradient = sympy.Matrix.zeros(X.shape[0], X.shape[1])\n",
    "\n",
    "for row in range(0, X.shape[0]):\n",
    "    for col in range(0, X.shape[1]):\n",
    "        gradient[row, col] = sympy.diff(fn, X[row, col])\n",
    "        \n",
    "# Calculamos el Gradiente por Formula\n",
    "\n",
    "gradient_formula = (A @ X + X @ A).T\n",
    "\n",
    "# Visualizamos \n",
    "\n",
    "print('Funcion Escalar:')\n",
    "display(Math('F(X) = {Tr}(XXA)'))\n",
    "print(f'\\n')\n",
    "print('Definicion de Matrices:')\n",
    "display(Math(f\"A = {latex(A)}, \\\\quad X = {latex(X)}\"))\n",
    "print(f'\\n')\n",
    "print(f'Operacion #1:')\n",
    "display(Math('C = X \\cdot X'))\n",
    "display(Math(f\"C = {latex(X @ X)}\"))\n",
    "print(f'\\n')\n",
    "print(f'Operacion #2:')\n",
    "display(Math('D = C \\cdot A'))\n",
    "display(Math(f\"D = {latex(X @ X @ A)}\"))\n",
    "print(f'\\n')\n",
    "print(f'Salida de la Funcion Escalar:')\n",
    "display(Math('F(X) = {Tr}(D)'))\n",
    "display(Math(f\"F(X) = {latex(fn)}\"))\n",
    "print(f'\\n')\n",
    "print(f'Gradiente Simbolico:')\n",
    "display(Math(r\"\\nabla_X = \" + gradient_symbolic_latex_1))\n",
    "display(Math(r\"\\nabla_X = \" + gradient_symbolic_latex_2))\n",
    "display(Math(r\"\\nabla_X = \" + latex(gradient)))\n",
    "print(f'\\n')\n",
    "print(f'Gradiente Formula:')\n",
    "display(Math(r\"\\nabla_X = (AX + XA)^T\"))\n",
    "display(Math(r\"\\nabla_X = \" + latex(gradient_formula)))"
   ]
  },
  {
   "cell_type": "code",
   "execution_count": 5,
   "metadata": {},
   "outputs": [
    {
     "name": "stdout",
     "output_type": "stream",
     "text": [
      "El Gradiente Respecto a X: \n",
      "tensor([[ 78.,  96.,  47.],\n",
      "        [ 61.,  81.,  57.],\n",
      "        [ 74., 104.,  79.]], grad_fn=<ViewBackward0>)\n"
     ]
    }
   ],
   "source": [
    "# Definimos las Matrices\n",
    "\n",
    "X = torch.tensor([[1.0, 2.0, 7.0], [3.0, 4.0, 9.0], [5.0, 4.0, 1.0]], requires_grad = True)\n",
    "A = torch.tensor([[5.0, 2.0, 5.0], [1.0, 7.0, 2.0], [5.0, 1.0, 1.0]], requires_grad = False)\n",
    "\n",
    "# Definimos la Funcion Escalar\n",
    "\n",
    "def fn(X, A):\n",
    "    \n",
    "    output = torch.trace(torch.matmul(torch.matmul(X, X), A))\n",
    "    \n",
    "    return output \n",
    "\n",
    "# Calculamos el Gradiente \n",
    "\n",
    "gradient = jacrev(fn, argnums = 0)(X, A)\n",
    "\n",
    "# Visualizamos un ejemplo numerico\n",
    "\n",
    "print(f'El Gradiente Respecto a X: \\n{gradient}')"
   ]
  },
  {
   "cell_type": "markdown",
   "metadata": {},
   "source": [
    "### **Ejercicio #3**\n",
    "\n",
    "**Funcion:**\n",
    "\n",
    "$$F(X) = \\, \\|X\\|_F^2$$\n",
    "$$\\, \\|X\\|_F^2 = \\text{Tr}(X X^T)$$\n",
    "\n",
    "**Derivada:**\n",
    "\n",
    "$$df(X) = \\text{Tr}(X^TdX) +  \\text{Tr}(X^TdX)$$\n",
    "\n",
    "**Gradiente:** \n",
    "\n",
    "$$(\\nabla X)^T = X^T + X^T = 2X^T$$\n",
    "$$\\nabla X = 2X$$"
   ]
  },
  {
   "cell_type": "code",
   "execution_count": 6,
   "metadata": {},
   "outputs": [
    {
     "name": "stdout",
     "output_type": "stream",
     "text": [
      "Funcion Escalar:\n"
     ]
    },
    {
     "data": {
      "text/latex": [
       "$\\displaystyle F(X) = {Tr}(X X^T)$"
      ],
      "text/plain": [
       "<IPython.core.display.Math object>"
      ]
     },
     "metadata": {},
     "output_type": "display_data"
    },
    {
     "name": "stdout",
     "output_type": "stream",
     "text": [
      "\n",
      "\n",
      "Definicion de Matrices:\n"
     ]
    },
    {
     "data": {
      "text/latex": [
       "$\\displaystyle X = \\left[\\begin{matrix}x_{1} & x_{2} & x_{3} & x_{4}\\\\x_{5} & x_{6} & x_{7} & x_{8}\\\\x_{9} & x_{10} & x_{11} & x_{12}\\end{matrix}\\right]$"
      ],
      "text/plain": [
       "<IPython.core.display.Math object>"
      ]
     },
     "metadata": {},
     "output_type": "display_data"
    },
    {
     "name": "stdout",
     "output_type": "stream",
     "text": [
      "\n",
      "\n",
      "Operacion #1:\n"
     ]
    },
    {
     "data": {
      "text/latex": [
       "$\\displaystyle C = X \\cdot X^T$"
      ],
      "text/plain": [
       "<IPython.core.display.Math object>"
      ]
     },
     "metadata": {},
     "output_type": "display_data"
    },
    {
     "data": {
      "text/latex": [
       "$\\displaystyle C = \\left[\\begin{matrix}x_{1}^{2} + x_{2}^{2} + x_{3}^{2} + x_{4}^{2} & x_{1} x_{5} + x_{2} x_{6} + x_{3} x_{7} + x_{4} x_{8} & x_{10} x_{2} + x_{11} x_{3} + x_{12} x_{4} + x_{1} x_{9}\\\\x_{1} x_{5} + x_{2} x_{6} + x_{3} x_{7} + x_{4} x_{8} & x_{5}^{2} + x_{6}^{2} + x_{7}^{2} + x_{8}^{2} & x_{10} x_{6} + x_{11} x_{7} + x_{12} x_{8} + x_{5} x_{9}\\\\x_{10} x_{2} + x_{11} x_{3} + x_{12} x_{4} + x_{1} x_{9} & x_{10} x_{6} + x_{11} x_{7} + x_{12} x_{8} + x_{5} x_{9} & x_{10}^{2} + x_{11}^{2} + x_{12}^{2} + x_{9}^{2}\\end{matrix}\\right]$"
      ],
      "text/plain": [
       "<IPython.core.display.Math object>"
      ]
     },
     "metadata": {},
     "output_type": "display_data"
    },
    {
     "name": "stdout",
     "output_type": "stream",
     "text": [
      "\n",
      "\n",
      "Salida de la Funcion Escalar:\n"
     ]
    },
    {
     "data": {
      "text/latex": [
       "$\\displaystyle F(X) = {Tr}(C)$"
      ],
      "text/plain": [
       "<IPython.core.display.Math object>"
      ]
     },
     "metadata": {},
     "output_type": "display_data"
    },
    {
     "data": {
      "text/latex": [
       "$\\displaystyle F(X) = x_{10}^{2} + x_{11}^{2} + x_{12}^{2} + x_{1}^{2} + x_{2}^{2} + x_{3}^{2} + x_{4}^{2} + x_{5}^{2} + x_{6}^{2} + x_{7}^{2} + x_{8}^{2} + x_{9}^{2}$"
      ],
      "text/plain": [
       "<IPython.core.display.Math object>"
      ]
     },
     "metadata": {},
     "output_type": "display_data"
    },
    {
     "name": "stdout",
     "output_type": "stream",
     "text": [
      "\n",
      "\n",
      "Gradiente Simbolico:\n"
     ]
    },
    {
     "data": {
      "text/latex": [
       "$\\displaystyle \\nabla_X = \\begin{bmatrix}\\frac{\\partial F}{\\partial X_{1,1}} & \\frac{\\partial F}{\\partial X_{1,2}} & \\frac{\\partial F}{\\partial X_{1,3}} & \\frac{\\partial F}{\\partial X_{1,4}} \\\\[1pt] \\\\\\frac{\\partial F}{\\partial X_{2,1}} & \\frac{\\partial F}{\\partial X_{2,2}} & \\frac{\\partial F}{\\partial X_{2,3}} & \\frac{\\partial F}{\\partial X_{2,4}} \\\\[1pt] \\\\\\frac{\\partial F}{\\partial X_{3,1}} & \\frac{\\partial F}{\\partial X_{3,2}} & \\frac{\\partial F}{\\partial X_{3,3}} & \\frac{\\partial F}{\\partial X_{3,4}} \\\\[1pt]\\end{bmatrix}$"
      ],
      "text/plain": [
       "<IPython.core.display.Math object>"
      ]
     },
     "metadata": {},
     "output_type": "display_data"
    },
    {
     "data": {
      "text/latex": [
       "$\\displaystyle \\nabla_X = \\begin{bmatrix}\\frac{\\partial F}{\\partial x_{1}} & \\frac{\\partial F}{\\partial x_{2}} & \\frac{\\partial F}{\\partial x_{3}} & \\frac{\\partial F}{\\partial x_{4}} \\\\[1pt] \\\\\\frac{\\partial F}{\\partial x_{5}} & \\frac{\\partial F}{\\partial x_{6}} & \\frac{\\partial F}{\\partial x_{7}} & \\frac{\\partial F}{\\partial x_{8}} \\\\[1pt] \\\\\\frac{\\partial F}{\\partial x_{9}} & \\frac{\\partial F}{\\partial x_{10}} & \\frac{\\partial F}{\\partial x_{11}} & \\frac{\\partial F}{\\partial x_{12}} \\\\[1pt]\\end{bmatrix}$"
      ],
      "text/plain": [
       "<IPython.core.display.Math object>"
      ]
     },
     "metadata": {},
     "output_type": "display_data"
    },
    {
     "data": {
      "text/latex": [
       "$\\displaystyle \\nabla_X = \\left[\\begin{matrix}2 x_{1} & 2 x_{2} & 2 x_{3} & 2 x_{4}\\\\2 x_{5} & 2 x_{6} & 2 x_{7} & 2 x_{8}\\\\2 x_{9} & 2 x_{10} & 2 x_{11} & 2 x_{12}\\end{matrix}\\right]$"
      ],
      "text/plain": [
       "<IPython.core.display.Math object>"
      ]
     },
     "metadata": {},
     "output_type": "display_data"
    },
    {
     "name": "stdout",
     "output_type": "stream",
     "text": [
      "\n",
      "\n",
      "Gradiente Formula:\n"
     ]
    },
    {
     "data": {
      "text/latex": [
       "$\\displaystyle \\nabla_X = 2X$"
      ],
      "text/plain": [
       "<IPython.core.display.Math object>"
      ]
     },
     "metadata": {},
     "output_type": "display_data"
    },
    {
     "data": {
      "text/latex": [
       "$\\displaystyle \\nabla_X = \\left[\\begin{matrix}2 x_{1} & 2 x_{2} & 2 x_{3} & 2 x_{4}\\\\2 x_{5} & 2 x_{6} & 2 x_{7} & 2 x_{8}\\\\2 x_{9} & 2 x_{10} & 2 x_{11} & 2 x_{12}\\end{matrix}\\right]$"
      ],
      "text/plain": [
       "<IPython.core.display.Math object>"
      ]
     },
     "metadata": {},
     "output_type": "display_data"
    }
   ],
   "source": [
    "# Definimos los coeficientes de la matriz\n",
    "\n",
    "x1, x2, x3, x4, x5, x6, x7, x8, x9, x10, x11, x12 = sympy.symbols(names = 'x_{1} x_{2} x_{3} x_{4} x_{5} x_{6} x_{7} x_{8} x_{9} x_{10} x_{11} x_{12}')\n",
    "\n",
    "# Definimos la matriz\n",
    "\n",
    "X = sympy.Matrix([[x1, x2, x3, x4], [x5, x6, x7, x8], [x9, x10, x11, x12]])\n",
    "\n",
    "# Definimos la Funcion Escalar\n",
    "\n",
    "fn = sympy.trace(X @ X.T)\n",
    "\n",
    "# Calculamos el Gradiente Simbolico \n",
    "\n",
    "gradient_symbolic_teory_1 = sympy.Matrix.zeros(X.shape[0], X.shape[1])\n",
    "gradient_symbolic_teory_2 = sympy.Matrix.zeros(X.shape[0], X.shape[1])\n",
    "\n",
    "for row in range(0, X.shape[0]):\n",
    "    for col in range(0, X.shape[1]):\n",
    "        gradient_symbolic_teory_1[row, col] = sympy.Symbol(fr\"\\frac{{\\partial F}}{{\\partial X_{{{row+1},{col+1}}}}}\")\n",
    "        gradient_symbolic_teory_2[row, col] = sympy.Symbol(fr\"\\frac{{\\partial F}}{{\\partial {X[row, col]}}}\")\n",
    "        \n",
    "gradient_symbolic_latex_1 = r\"\\begin{bmatrix}\" + r\" \\\\\".join(\" & \".join(str(gradient_symbolic_teory_1[row, col]) for col in range(X.shape[1])) + r\" \\\\[1pt]\" for row in range(X.shape[0])) + r\"\\end{bmatrix}\"\n",
    "gradient_symbolic_latex_2 = r\"\\begin{bmatrix}\" + r\" \\\\\".join(\" & \".join(str(gradient_symbolic_teory_2[row, col]) for col in range(X.shape[1])) + r\" \\\\[1pt]\" for row in range(X.shape[0])) + r\"\\end{bmatrix}\"\n",
    "\n",
    "# Calculamos el Gradiente\n",
    "\n",
    "gradient = sympy.Matrix.zeros(X.shape[0], X.shape[1])\n",
    "\n",
    "for row in range(0, X.shape[0]):\n",
    "    for col in range(0, X.shape[1]):\n",
    "        gradient[row, col] = sympy.diff(fn, X[row, col])\n",
    "        \n",
    "# Calculamos el Gradiente por Formula\n",
    "\n",
    "gradient_formula = 2 * X\n",
    "\n",
    "# Visualizamos \n",
    "\n",
    "print('Funcion Escalar:')\n",
    "display(Math('F(X) = {Tr}(X X^T)'))\n",
    "print(f'\\n')\n",
    "print('Definicion de Matrices:')\n",
    "display(Math(f\"X = {latex(X)}\"))\n",
    "print(f'\\n')\n",
    "print(f'Operacion #1:')\n",
    "display(Math('C = X \\cdot X^T'))\n",
    "display(Math(f\"C = {latex(X @ X.T)}\"))\n",
    "print(f'\\n')\n",
    "print(f'Salida de la Funcion Escalar:')\n",
    "display(Math('F(X) = {Tr}(C)'))\n",
    "display(Math(f\"F(X) = {latex(fn)}\"))\n",
    "print(f'\\n')\n",
    "print(f'Gradiente Simbolico:')\n",
    "display(Math(r\"\\nabla_X = \" + gradient_symbolic_latex_1))\n",
    "display(Math(r\"\\nabla_X = \" + gradient_symbolic_latex_2))\n",
    "display(Math(r\"\\nabla_X = \" + latex(gradient)))\n",
    "print(f'\\n')\n",
    "print(f'Gradiente Formula:')\n",
    "display(Math(r\"\\nabla_X = 2X\"))\n",
    "display(Math(r\"\\nabla_X = \" + latex(gradient_formula)))"
   ]
  },
  {
   "cell_type": "code",
   "execution_count": 7,
   "metadata": {},
   "outputs": [
    {
     "name": "stdout",
     "output_type": "stream",
     "text": [
      "El Gradiente Respecto a X: \n",
      "tensor([[ 2.,  4., 14., 10.],\n",
      "        [ 6.,  8., 18.,  2.],\n",
      "        [10.,  8.,  2.,  6.],\n",
      "        [18., 10., 14.,  4.]], grad_fn=<ViewBackward0>)\n"
     ]
    }
   ],
   "source": [
    "# Definimos Nuestra Matriz\n",
    "\n",
    "X = torch.tensor([[1.0, 2.0, 7.0, 5.0], [3.0, 4.0, 9.0, 1.0], [5.0, 4.0, 1.0, 3.0], [9.0, 5.0, 7.0, 2.0]], requires_grad = True)\n",
    "\n",
    "# Definimos la Funcion Escalar\n",
    "\n",
    "def fn(X):\n",
    "    \n",
    "    output = torch.norm(X)**2\n",
    "    \n",
    "    return output \n",
    "\n",
    "# Calculamos el Gradiente \n",
    "\n",
    "gradient = jacrev(fn, argnums = 0)(X)\n",
    "\n",
    "# Visualizamos un ejemplo numerico\n",
    "\n",
    "print(f'El Gradiente Respecto a X: \\n{gradient}')"
   ]
  },
  {
   "cell_type": "markdown",
   "metadata": {},
   "source": [
    "# **Jacobiana**"
   ]
  },
  {
   "cell_type": "markdown",
   "metadata": {},
   "source": [
    "### **Ejercicio #1**\n",
    "\n",
    "**Funcion:**\n",
    "\n",
    "$$F(X) = X^2$$\n",
    "\n",
    "**Derivada:**\n",
    "\n",
    "$$d(X) = (I \\otimes X + X^T \\otimes I) \\cdot vec(dX)$$\n",
    "\n",
    "**Jacobiana:** \n",
    "\n",
    "$$J = I \\otimes X + X^T \\otimes I$$"
   ]
  },
  {
   "cell_type": "code",
   "execution_count": 8,
   "metadata": {},
   "outputs": [
    {
     "name": "stdout",
     "output_type": "stream",
     "text": [
      "Funcion Vectorial:\n"
     ]
    },
    {
     "data": {
      "text/latex": [
       "$\\displaystyle F(X) = X \\cdot X$"
      ],
      "text/plain": [
       "<IPython.core.display.Math object>"
      ]
     },
     "metadata": {},
     "output_type": "display_data"
    },
    {
     "name": "stdout",
     "output_type": "stream",
     "text": [
      "\n",
      "\n",
      "Definicion de Matrices:\n"
     ]
    },
    {
     "data": {
      "text/latex": [
       "$\\displaystyle X = \\left[\\begin{matrix}x_{1} & x_{2}\\\\x_{3} & x_{4}\\end{matrix}\\right]$"
      ],
      "text/plain": [
       "<IPython.core.display.Math object>"
      ]
     },
     "metadata": {},
     "output_type": "display_data"
    },
    {
     "name": "stdout",
     "output_type": "stream",
     "text": [
      "\n",
      "\n",
      "Salida de la Funcion Vectorial:\n"
     ]
    },
    {
     "data": {
      "text/latex": [
       "$\\displaystyle F(X) = X \\cdot X$"
      ],
      "text/plain": [
       "<IPython.core.display.Math object>"
      ]
     },
     "metadata": {},
     "output_type": "display_data"
    },
    {
     "data": {
      "text/latex": [
       "$\\displaystyle F(X) = \\left[\\begin{matrix}x_{1}^{2} + x_{2} x_{3} & x_{1} x_{2} + x_{2} x_{4}\\\\x_{1} x_{3} + x_{3} x_{4} & x_{2} x_{3} + x_{4}^{2}\\end{matrix}\\right]$"
      ],
      "text/plain": [
       "<IPython.core.display.Math object>"
      ]
     },
     "metadata": {},
     "output_type": "display_data"
    },
    {
     "name": "stdout",
     "output_type": "stream",
     "text": [
      "\n",
      "\n",
      "Jacobiana Simbolica:\n"
     ]
    },
    {
     "data": {
      "text/latex": [
       "$\\displaystyle J_X = \\begin{bmatrix}\\frac{\\partial F_{1,1}}{\\partial X_{1,1}} & \\frac{\\partial F_{1,1}}{\\partial X_{2,1}} & \\frac{\\partial F_{1,1}}{\\partial X_{1,2}} & \\frac{\\partial F_{1,1}}{\\partial X_{2,2}} \\\\[5pt]\\frac{\\partial F_{2,1}}{\\partial X_{1,1}} & \\frac{\\partial F_{2,1}}{\\partial X_{2,1}} & \\frac{\\partial F_{2,1}}{\\partial X_{1,2}} & \\frac{\\partial F_{2,1}}{\\partial X_{2,2}} \\\\[5pt]\\frac{\\partial F_{1,2}}{\\partial X_{1,1}} & \\frac{\\partial F_{1,2}}{\\partial X_{2,1}} & \\frac{\\partial F_{1,2}}{\\partial X_{1,2}} & \\frac{\\partial F_{1,2}}{\\partial X_{2,2}} \\\\[5pt]\\frac{\\partial F_{2,2}}{\\partial X_{1,1}} & \\frac{\\partial F_{2,2}}{\\partial X_{2,1}} & \\frac{\\partial F_{2,2}}{\\partial X_{1,2}} & \\frac{\\partial F_{2,2}}{\\partial X_{2,2}}\\end{bmatrix}$"
      ],
      "text/plain": [
       "<IPython.core.display.Math object>"
      ]
     },
     "metadata": {},
     "output_type": "display_data"
    },
    {
     "data": {
      "text/latex": [
       "$\\displaystyle J_X = \\begin{bmatrix}\\frac{\\partial F_{1,1}}{\\partial x_{1}} & \\frac{\\partial F_{1,1}}{\\partial x_{3}} & \\frac{\\partial F_{1,1}}{\\partial x_{2}} & \\frac{\\partial F_{1,1}}{\\partial x_{4}} \\\\[5pt]\\frac{\\partial F_{2,1}}{\\partial x_{1}} & \\frac{\\partial F_{2,1}}{\\partial x_{3}} & \\frac{\\partial F_{2,1}}{\\partial x_{2}} & \\frac{\\partial F_{2,1}}{\\partial x_{4}} \\\\[5pt]\\frac{\\partial F_{1,2}}{\\partial x_{1}} & \\frac{\\partial F_{1,2}}{\\partial x_{3}} & \\frac{\\partial F_{1,2}}{\\partial x_{2}} & \\frac{\\partial F_{1,2}}{\\partial x_{4}} \\\\[5pt]\\frac{\\partial F_{2,2}}{\\partial x_{1}} & \\frac{\\partial F_{2,2}}{\\partial x_{3}} & \\frac{\\partial F_{2,2}}{\\partial x_{2}} & \\frac{\\partial F_{2,2}}{\\partial x_{4}}\\end{bmatrix}$"
      ],
      "text/plain": [
       "<IPython.core.display.Math object>"
      ]
     },
     "metadata": {},
     "output_type": "display_data"
    },
    {
     "data": {
      "text/latex": [
       "$\\displaystyle J_X = \\left[\\begin{matrix}2 x_{1} & x_{2} & x_{3} & 0\\\\x_{3} & x_{1} + x_{4} & 0 & x_{3}\\\\x_{2} & 0 & x_{1} + x_{4} & x_{2}\\\\0 & x_{2} & x_{3} & 2 x_{4}\\end{matrix}\\right]$"
      ],
      "text/plain": [
       "<IPython.core.display.Math object>"
      ]
     },
     "metadata": {},
     "output_type": "display_data"
    },
    {
     "name": "stdout",
     "output_type": "stream",
     "text": [
      "\n",
      "\n",
      "Jacobiana Formula:\n"
     ]
    },
    {
     "data": {
      "text/latex": [
       "$\\displaystyle J_X = I \\otimes X + X^T \\otimes I$"
      ],
      "text/plain": [
       "<IPython.core.display.Math object>"
      ]
     },
     "metadata": {},
     "output_type": "display_data"
    },
    {
     "data": {
      "text/latex": [
       "$\\displaystyle J_X = \\left[\\begin{matrix}2 x_{1} & x_{2} & x_{3} & 0\\\\x_{3} & x_{1} + x_{4} & 0 & x_{3}\\\\x_{2} & 0 & x_{1} + x_{4} & x_{2}\\\\0 & x_{2} & x_{3} & 2 x_{4}\\end{matrix}\\right]$"
      ],
      "text/plain": [
       "<IPython.core.display.Math object>"
      ]
     },
     "metadata": {},
     "output_type": "display_data"
    }
   ],
   "source": [
    "# Definimos los coeficientes de la matriz\n",
    "\n",
    "x1, x2, x3, x4 = sympy.symbols(names = 'x_{1} x_{2} x_{3} x_{4}')\n",
    "\n",
    "# Definimos la matriz\n",
    "\n",
    "X = sympy.Matrix([[x1, x2], [x3, x4]])\n",
    "\n",
    "# Definimos la Funcion Vectorial\n",
    "\n",
    "fn = X @ X\n",
    "\n",
    "# Calculamos la Jacobiana Simbolica \n",
    "\n",
    "jacobian_symbolic_teory_1 = sympy.Matrix.zeros(X.shape[0] * fn.shape[0], X.shape[1] * fn.shape[1])\n",
    "jacobian_symbolic_teory_2 = sympy.Matrix.zeros(X.shape[0] * fn.shape[0], X.shape[1] * fn.shape[1])\n",
    "\n",
    "for row_output in range(fn.shape[0]):\n",
    "    for col_output in range(fn.shape[1]):\n",
    "        for row_input in range(X.shape[0]):\n",
    "            for col_input in range(X.shape[1]):\n",
    "                \n",
    "                jacobian_row = row_output * fn.shape[1] + col_output\n",
    "                jacobian_col = row_input * X.shape[1] + col_input\n",
    "                \n",
    "                jacobian_symbolic_teory_1[jacobian_row, jacobian_col] = sympy.Symbol(fr\"\\frac{{\\partial F_{{{col_output+1},{row_output+1}}}}}{{\\partial X_{{{col_input+1},{row_input+1}}}}}\")\n",
    "                jacobian_symbolic_teory_2[jacobian_row, jacobian_col] = sympy.Symbol(fr\"\\frac{{\\partial F_{{{col_output+1},{row_output+1}}}}}{{\\partial {X[col_input, row_input]}}}\")\n",
    "\n",
    "jacobian_symbolic_latex_1 = r\"\\begin{bmatrix}\" + r\" \\\\[5pt]\".join(\" & \".join(str(jacobian_symbolic_teory_1[row, col]) for col in range(jacobian_symbolic_teory_1.shape[1]))\n",
    "                                                                  for row in range(jacobian_symbolic_teory_1.shape[0])) + r\"\\end{bmatrix}\"\n",
    "\n",
    "jacobian_symbolic_latex_2 = r\"\\begin{bmatrix}\" + r\" \\\\[5pt]\".join(\" & \".join(str(jacobian_symbolic_teory_2[row, col]) for col in range(jacobian_symbolic_teory_2.shape[1]))\n",
    "                                                                  for row in range(jacobian_symbolic_teory_2.shape[0])) + r\"\\end{bmatrix}\"\n",
    "\n",
    "# Calculamos la Jacobiana\n",
    "\n",
    "jacobian = sympy.Matrix.zeros(fn.shape[0] * fn.shape[1], X.shape[0] * X.shape[1])\n",
    "\n",
    "for row_output in range(fn.shape[0]):\n",
    "    for col_output in range(fn.shape[1]):\n",
    "        for row_input in range(X.shape[0]):\n",
    "            for col_input in range(X.shape[1]):\n",
    "                \n",
    "                jacobian_row = row_output * fn.shape[1] + col_output\n",
    "                jacobian_col = row_input * X.shape[1] + col_input\n",
    "                \n",
    "                jacobian[jacobian_row, jacobian_col] = sympy.diff(fn[col_output, row_output], X[col_input, row_input])\n",
    "\n",
    "# Calculamos la Jacobiana por Formula\n",
    "\n",
    "I = sympy.Matrix.eye(X.shape[0])\n",
    "\n",
    "jacobian_formula = sympy.kronecker_product(I, X) + sympy.kronecker_product(X.T, I)\n",
    "\n",
    "# Visualizamos resultados\n",
    "\n",
    "print('Funcion Vectorial:')\n",
    "display(Math('F(X) = X \\cdot X'))\n",
    "print(f'\\n')\n",
    "print('Definicion de Matrices:')\n",
    "display(Math(f\"X = {latex(X)}\"))\n",
    "print(f'\\n')\n",
    "print(f'Salida de la Funcion Vectorial:')\n",
    "display(Math('F(X) = X \\cdot X'))\n",
    "display(Math(f\"F(X) = {latex(fn)}\"))\n",
    "print(f'\\n')\n",
    "print('Jacobiana Simbolica:')\n",
    "display(Math(r\"J_X = \" + jacobian_symbolic_latex_1))\n",
    "display(Math(r\"J_X = \" + jacobian_symbolic_latex_2))\n",
    "display(Math(r\"J_X = \" + latex(jacobian)))\n",
    "print(f'\\n')\n",
    "print('Jacobiana Formula:')\n",
    "display(Math(r\"J_X = I \\otimes X + X^T \\otimes I\"))\n",
    "display(Math(r\"J_X = \" + latex(jacobian_formula)))"
   ]
  },
  {
   "cell_type": "code",
   "execution_count": 9,
   "metadata": {},
   "outputs": [
    {
     "name": "stdout",
     "output_type": "stream",
     "text": [
      "La Jacobiana Respecto a X: \n",
      "tensor([[2., 2., 3., 0.],\n",
      "        [3., 5., 0., 3.],\n",
      "        [2., 0., 5., 2.],\n",
      "        [0., 2., 3., 8.]])\n"
     ]
    }
   ],
   "source": [
    "# Definimos Nuestra Matriz\n",
    "\n",
    "X = torch.tensor([[1.0, 2.0], [3.0, 4.0]])\n",
    "\n",
    "# Definimos la Funcion Vectorial\n",
    "\n",
    "def Fn(X):   \n",
    "    \n",
    "    output = torch.matmul(X, X)\n",
    "    \n",
    "    return output \n",
    "\n",
    "# Calculamos la Matriz Jacobiana \n",
    "\n",
    "jacobian = jacrev(Fn, argnums = 0)(X)\n",
    "\n",
    "# Redimensionamos (Cada sub-matrix de salida representa una columna de la matriz jacbianda definitiva)\n",
    "\n",
    "new_shape = (jacobian.shape[0] * jacobian.shape[1], jacobian.shape[2] * jacobian.shape[3])\n",
    "\n",
    "jacobian = jacobian.T.permute(2, 3, 0, 1).reshape(new_shape)\n",
    "\n",
    "# Visualizamos un ejemplo numerico\n",
    "\n",
    "print(f'La Jacobiana Respecto a X: \\n{jacobian}')"
   ]
  },
  {
   "cell_type": "markdown",
   "metadata": {},
   "source": [
    "### **Ejercicio #2**\n",
    "\n",
    "**Funcion:**\n",
    "\n",
    "$$F(X) = XAX$$\n",
    "\n",
    "**Derivada:**\n",
    "\n",
    "$$d(X) = (I \\otimes XA + (AX)^T \\otimes I) \\cdot vec(dX)$$\n",
    "\n",
    "**Jacobiana:** \n",
    "\n",
    "$$J = I \\otimes XA + (AX)^T \\otimes I$$"
   ]
  },
  {
   "cell_type": "code",
   "execution_count": 10,
   "metadata": {},
   "outputs": [
    {
     "name": "stdout",
     "output_type": "stream",
     "text": [
      "Funcion Vectorial:\n"
     ]
    },
    {
     "data": {
      "text/latex": [
       "$\\displaystyle F(X) = X \\cdot A \\cdot X$"
      ],
      "text/plain": [
       "<IPython.core.display.Math object>"
      ]
     },
     "metadata": {},
     "output_type": "display_data"
    },
    {
     "name": "stdout",
     "output_type": "stream",
     "text": [
      "\n",
      "\n",
      "Definicion de Matrices:\n"
     ]
    },
    {
     "data": {
      "text/latex": [
       "$\\displaystyle A = \\left[\\begin{matrix}a_{1} & a_{2}\\\\a_{3} & a_{4}\\end{matrix}\\right], \\quad X = \\left[\\begin{matrix}x_{1} & x_{2}\\\\x_{3} & x_{4}\\end{matrix}\\right]$"
      ],
      "text/plain": [
       "<IPython.core.display.Math object>"
      ]
     },
     "metadata": {},
     "output_type": "display_data"
    },
    {
     "name": "stdout",
     "output_type": "stream",
     "text": [
      "\n",
      "\n",
      "Operacion #1:\n"
     ]
    },
    {
     "data": {
      "text/latex": [
       "$\\displaystyle C = X \\cdot A$"
      ],
      "text/plain": [
       "<IPython.core.display.Math object>"
      ]
     },
     "metadata": {},
     "output_type": "display_data"
    },
    {
     "data": {
      "text/latex": [
       "$\\displaystyle C = \\left[\\begin{matrix}a_{1} x_{1} + a_{3} x_{2} & a_{2} x_{1} + a_{4} x_{2}\\\\a_{1} x_{3} + a_{3} x_{4} & a_{2} x_{3} + a_{4} x_{4}\\end{matrix}\\right]$"
      ],
      "text/plain": [
       "<IPython.core.display.Math object>"
      ]
     },
     "metadata": {},
     "output_type": "display_data"
    },
    {
     "name": "stdout",
     "output_type": "stream",
     "text": [
      "\n",
      "\n",
      "Salida de la Funcion Vectorial:\n"
     ]
    },
    {
     "data": {
      "text/latex": [
       "$\\displaystyle F(X) = C \\cdot X$"
      ],
      "text/plain": [
       "<IPython.core.display.Math object>"
      ]
     },
     "metadata": {},
     "output_type": "display_data"
    },
    {
     "data": {
      "text/latex": [
       "$\\displaystyle F(X) = \\left[\\begin{matrix}x_{1} \\left(a_{1} x_{1} + a_{3} x_{2}\\right) + x_{3} \\left(a_{2} x_{1} + a_{4} x_{2}\\right) & x_{2} \\left(a_{1} x_{1} + a_{3} x_{2}\\right) + x_{4} \\left(a_{2} x_{1} + a_{4} x_{2}\\right)\\\\x_{1} \\left(a_{1} x_{3} + a_{3} x_{4}\\right) + x_{3} \\left(a_{2} x_{3} + a_{4} x_{4}\\right) & x_{2} \\left(a_{1} x_{3} + a_{3} x_{4}\\right) + x_{4} \\left(a_{2} x_{3} + a_{4} x_{4}\\right)\\end{matrix}\\right]$"
      ],
      "text/plain": [
       "<IPython.core.display.Math object>"
      ]
     },
     "metadata": {},
     "output_type": "display_data"
    },
    {
     "name": "stdout",
     "output_type": "stream",
     "text": [
      "\n",
      "\n",
      "Jacobiana Simbolica:\n"
     ]
    },
    {
     "data": {
      "text/latex": [
       "$\\displaystyle J_X = \\begin{bmatrix}\\frac{\\partial F_{1,1}}{\\partial X_{1,1}} & \\frac{\\partial F_{1,1}}{\\partial X_{2,1}} & \\frac{\\partial F_{1,1}}{\\partial X_{1,2}} & \\frac{\\partial F_{1,1}}{\\partial X_{2,2}} \\\\[5pt]\\frac{\\partial F_{2,1}}{\\partial X_{1,1}} & \\frac{\\partial F_{2,1}}{\\partial X_{2,1}} & \\frac{\\partial F_{2,1}}{\\partial X_{1,2}} & \\frac{\\partial F_{2,1}}{\\partial X_{2,2}} \\\\[5pt]\\frac{\\partial F_{1,2}}{\\partial X_{1,1}} & \\frac{\\partial F_{1,2}}{\\partial X_{2,1}} & \\frac{\\partial F_{1,2}}{\\partial X_{1,2}} & \\frac{\\partial F_{1,2}}{\\partial X_{2,2}} \\\\[5pt]\\frac{\\partial F_{2,2}}{\\partial X_{1,1}} & \\frac{\\partial F_{2,2}}{\\partial X_{2,1}} & \\frac{\\partial F_{2,2}}{\\partial X_{1,2}} & \\frac{\\partial F_{2,2}}{\\partial X_{2,2}}\\end{bmatrix}$"
      ],
      "text/plain": [
       "<IPython.core.display.Math object>"
      ]
     },
     "metadata": {},
     "output_type": "display_data"
    },
    {
     "data": {
      "text/latex": [
       "$\\displaystyle J_X = \\begin{bmatrix}\\frac{\\partial F_{1,1}}{\\partial x_{1}} & \\frac{\\partial F_{1,1}}{\\partial x_{3}} & \\frac{\\partial F_{1,1}}{\\partial x_{2}} & \\frac{\\partial F_{1,1}}{\\partial x_{4}} \\\\[5pt]\\frac{\\partial F_{2,1}}{\\partial x_{1}} & \\frac{\\partial F_{2,1}}{\\partial x_{3}} & \\frac{\\partial F_{2,1}}{\\partial x_{2}} & \\frac{\\partial F_{2,1}}{\\partial x_{4}} \\\\[5pt]\\frac{\\partial F_{1,2}}{\\partial x_{1}} & \\frac{\\partial F_{1,2}}{\\partial x_{3}} & \\frac{\\partial F_{1,2}}{\\partial x_{2}} & \\frac{\\partial F_{1,2}}{\\partial x_{4}} \\\\[5pt]\\frac{\\partial F_{2,2}}{\\partial x_{1}} & \\frac{\\partial F_{2,2}}{\\partial x_{3}} & \\frac{\\partial F_{2,2}}{\\partial x_{2}} & \\frac{\\partial F_{2,2}}{\\partial x_{4}}\\end{bmatrix}$"
      ],
      "text/plain": [
       "<IPython.core.display.Math object>"
      ]
     },
     "metadata": {},
     "output_type": "display_data"
    },
    {
     "data": {
      "text/latex": [
       "$\\displaystyle J_X = \\left[\\begin{matrix}2 a_{1} x_{1} + a_{2} x_{3} + a_{3} x_{2} & a_{2} x_{1} + a_{4} x_{2} & a_{3} x_{1} + a_{4} x_{3} & 0\\\\a_{1} x_{3} + a_{3} x_{4} & a_{1} x_{1} + 2 a_{2} x_{3} + a_{4} x_{4} & 0 & a_{3} x_{1} + a_{4} x_{3}\\\\a_{1} x_{2} + a_{2} x_{4} & 0 & a_{1} x_{1} + 2 a_{3} x_{2} + a_{4} x_{4} & a_{2} x_{1} + a_{4} x_{2}\\\\0 & a_{1} x_{2} + a_{2} x_{4} & a_{1} x_{3} + a_{3} x_{4} & a_{2} x_{3} + a_{3} x_{2} + 2 a_{4} x_{4}\\end{matrix}\\right]$"
      ],
      "text/plain": [
       "<IPython.core.display.Math object>"
      ]
     },
     "metadata": {},
     "output_type": "display_data"
    },
    {
     "name": "stdout",
     "output_type": "stream",
     "text": [
      "\n",
      "\n",
      "Jacobiana Formula:\n"
     ]
    },
    {
     "data": {
      "text/latex": [
       "$\\displaystyle J_X = I \\otimes XA + (AX)^T \\otimes I$"
      ],
      "text/plain": [
       "<IPython.core.display.Math object>"
      ]
     },
     "metadata": {},
     "output_type": "display_data"
    },
    {
     "data": {
      "text/latex": [
       "$\\displaystyle J_X = \\left[\\begin{matrix}2 a_{1} x_{1} + a_{2} x_{3} + a_{3} x_{2} & a_{2} x_{1} + a_{4} x_{2} & a_{3} x_{1} + a_{4} x_{3} & 0\\\\a_{1} x_{3} + a_{3} x_{4} & a_{1} x_{1} + 2 a_{2} x_{3} + a_{4} x_{4} & 0 & a_{3} x_{1} + a_{4} x_{3}\\\\a_{1} x_{2} + a_{2} x_{4} & 0 & a_{1} x_{1} + 2 a_{3} x_{2} + a_{4} x_{4} & a_{2} x_{1} + a_{4} x_{2}\\\\0 & a_{1} x_{2} + a_{2} x_{4} & a_{1} x_{3} + a_{3} x_{4} & a_{2} x_{3} + a_{3} x_{2} + 2 a_{4} x_{4}\\end{matrix}\\right]$"
      ],
      "text/plain": [
       "<IPython.core.display.Math object>"
      ]
     },
     "metadata": {},
     "output_type": "display_data"
    }
   ],
   "source": [
    "# Definimos los coeficientes de ambas matrices\n",
    "\n",
    "a1, a2, a3, a4 = sympy.symbols(names = 'a_{1} a_{2} a_{3} a_{4}')\n",
    "x1, x2, x3, x4 = sympy.symbols(names = 'x_{1} x_{2} x_{3} x_{4}')\n",
    "\n",
    "# Definimos las matrices\n",
    "\n",
    "A = sympy.Matrix([[a1, a2], [a3, a4]])\n",
    "X = sympy.Matrix([[x1, x2], [x3, x4]])\n",
    "\n",
    "# Definimos la Funcion Vectorial\n",
    "\n",
    "fn = X @ A @ X\n",
    "\n",
    "# Calculamos la Jacobiana Simbolica \n",
    "\n",
    "jacobian_symbolic_teory_1 = sympy.Matrix.zeros(X.shape[0] * fn.shape[0], X.shape[1] * fn.shape[1])\n",
    "jacobian_symbolic_teory_2 = sympy.Matrix.zeros(X.shape[0] * fn.shape[0], X.shape[1] * fn.shape[1])\n",
    "\n",
    "for row_output in range(fn.shape[0]):\n",
    "    for col_output in range(fn.shape[1]):\n",
    "        for row_input in range(X.shape[0]):\n",
    "            for col_input in range(X.shape[1]):\n",
    "                \n",
    "                jacobian_row = row_output * fn.shape[1] + col_output\n",
    "                jacobian_col = row_input * X.shape[1] + col_input\n",
    "                \n",
    "                jacobian_symbolic_teory_1[jacobian_row, jacobian_col] = sympy.Symbol(fr\"\\frac{{\\partial F_{{{col_output+1},{row_output+1}}}}}{{\\partial X_{{{col_input+1},{row_input+1}}}}}\")\n",
    "                jacobian_symbolic_teory_2[jacobian_row, jacobian_col] = sympy.Symbol(fr\"\\frac{{\\partial F_{{{col_output+1},{row_output+1}}}}}{{\\partial {X[col_input, row_input]}}}\")\n",
    "\n",
    "jacobian_symbolic_latex_1 = r\"\\begin{bmatrix}\" + r\" \\\\[5pt]\".join(\" & \".join(str(jacobian_symbolic_teory_1[row, col]) for col in range(jacobian_symbolic_teory_1.shape[1]))\n",
    "                                                                  for row in range(jacobian_symbolic_teory_1.shape[0])) + r\"\\end{bmatrix}\"\n",
    "\n",
    "jacobian_symbolic_latex_2 = r\"\\begin{bmatrix}\" + r\" \\\\[5pt]\".join(\" & \".join(str(jacobian_symbolic_teory_2[row, col]) for col in range(jacobian_symbolic_teory_2.shape[1]))\n",
    "                                                                  for row in range(jacobian_symbolic_teory_2.shape[0])) + r\"\\end{bmatrix}\"\n",
    "\n",
    "# Calculamos la Jacobiana\n",
    "\n",
    "jacobian = sympy.Matrix.zeros(fn.shape[0] * fn.shape[1], X.shape[0] * X.shape[1])\n",
    "\n",
    "for row_output in range(fn.shape[0]):\n",
    "    for col_output in range(fn.shape[1]):\n",
    "        for row_input in range(X.shape[0]):\n",
    "            for col_input in range(X.shape[1]):\n",
    "                \n",
    "                jacobian_row = row_output * fn.shape[1] + col_output\n",
    "                jacobian_col = row_input * X.shape[1] + col_input\n",
    "                \n",
    "                jacobian[jacobian_row, jacobian_col] = sympy.diff(fn[col_output, row_output], X[col_input, row_input])\n",
    "\n",
    "# Calculamos la Jacobiana por Formula\n",
    "\n",
    "I = sympy.Matrix.eye(X.shape[0])\n",
    "\n",
    "jacobian_formula = sympy.kronecker_product(I, (X @ A)) + sympy.kronecker_product((A @ X).T, I)\n",
    "\n",
    "# Visualizamos resultados\n",
    "\n",
    "print('Funcion Vectorial:')\n",
    "display(Math('F(X) = X \\cdot A \\cdot X'))\n",
    "print(f'\\n')\n",
    "print('Definicion de Matrices:')\n",
    "display(Math(f\"A = {latex(A)}, \\\\quad X = {latex(X)}\"))\n",
    "print(f'\\n')\n",
    "print(f'Operacion #1:')\n",
    "display(Math('C = X \\cdot A'))\n",
    "display(Math(f\"C = {latex(X @ A)}\"))\n",
    "print(f'\\n')\n",
    "print(f'Salida de la Funcion Vectorial:')\n",
    "display(Math('F(X) = C \\cdot X'))\n",
    "display(Math(f\"F(X) = {latex(fn)}\"))\n",
    "print(f'\\n')\n",
    "print('Jacobiana Simbolica:')\n",
    "display(Math(r\"J_X = \" + jacobian_symbolic_latex_1))\n",
    "display(Math(r\"J_X = \" + jacobian_symbolic_latex_2))\n",
    "display(Math(r\"J_X = \" + latex(jacobian)))\n",
    "print(f'\\n')\n",
    "print('Jacobiana Formula:')\n",
    "display(Math(r\"J_X = I \\otimes XA + (AX)^T \\otimes I\"))\n",
    "display(Math(r\"J_X = \" + latex(jacobian_formula)))"
   ]
  },
  {
   "cell_type": "code",
   "execution_count": 11,
   "metadata": {},
   "outputs": [
    {
     "name": "stdout",
     "output_type": "stream",
     "text": [
      "La Jacobiana Respecto a X: \n",
      "tensor([[53., 23., 26.,  0.],\n",
      "        [44., 90.,  0., 26.],\n",
      "        [52.,  0., 56., 23.],\n",
      "        [ 0., 52., 44., 93.]])\n"
     ]
    }
   ],
   "source": [
    "# Definimos Nuestra Matrices\n",
    "\n",
    "X = torch.tensor([[1.0, 2.0], [3.0, 4.0]]) \n",
    "A = torch.tensor([[8.0, 9.0], [5.0, 7.0]]) \n",
    "\n",
    "# Definimos la Funcion Vectorial\n",
    "\n",
    "def Fn(X, A):   \n",
    "    \n",
    "    output = torch.matmul(X, A)\n",
    "    output = torch.matmul(output, X)\n",
    "    \n",
    "    return output\n",
    "\n",
    "# Calculamos la Matriz Jacobiana \n",
    "\n",
    "jacobian = jacrev(Fn, argnums = 0)(X, A)\n",
    "\n",
    "# Redimensionamos (Cada sub-matrix de salida representa una columna de la matriz jacbianda definitiva)\n",
    "\n",
    "new_shape = (jacobian.shape[0] * jacobian.shape[1], jacobian.shape[2] * jacobian.shape[3])\n",
    "\n",
    "jacobian = jacobian.T.permute(2, 3, 0, 1).reshape(new_shape)\n",
    "\n",
    "# Visualizamos un ejemplo numerico\n",
    "\n",
    "print(f'La Jacobiana Respecto a X: \\n{jacobian}')"
   ]
  },
  {
   "cell_type": "markdown",
   "metadata": {},
   "source": [
    "### **Ejercicio #3**\n",
    "\n",
    "**Funcion:**\n",
    "\n",
    "$$F(X) = XAX^T$$\n",
    "\n",
    "**Derivada:**\n",
    "\n",
    "$$d(X) = ((I \\otimes XA) \\cdot K_{m, n} + (AX^T)^T \\otimes I) \\cdot vec(dX)$$\n",
    "\n",
    "**Jacobiana:** \n",
    "\n",
    "$$J = (I \\otimes XA) \\cdot K_{m, n} + (AX^T)^T \\otimes I$$"
   ]
  },
  {
   "cell_type": "code",
   "execution_count": 12,
   "metadata": {},
   "outputs": [
    {
     "name": "stdout",
     "output_type": "stream",
     "text": [
      "Funcion Vectorial:\n"
     ]
    },
    {
     "data": {
      "text/latex": [
       "$\\displaystyle F(X) = X \\cdot A \\cdot X^T$"
      ],
      "text/plain": [
       "<IPython.core.display.Math object>"
      ]
     },
     "metadata": {},
     "output_type": "display_data"
    },
    {
     "name": "stdout",
     "output_type": "stream",
     "text": [
      "\n",
      "\n",
      "Definicion de Matrices:\n"
     ]
    },
    {
     "data": {
      "text/latex": [
       "$\\displaystyle A = \\left[\\begin{matrix}a_{1} & a_{2}\\\\a_{3} & a_{4}\\end{matrix}\\right], \\quad X = \\left[\\begin{matrix}x_{1} & x_{2}\\\\x_{3} & x_{4}\\end{matrix}\\right]$"
      ],
      "text/plain": [
       "<IPython.core.display.Math object>"
      ]
     },
     "metadata": {},
     "output_type": "display_data"
    },
    {
     "name": "stdout",
     "output_type": "stream",
     "text": [
      "\n",
      "\n",
      "Operacion #1:\n"
     ]
    },
    {
     "data": {
      "text/latex": [
       "$\\displaystyle C = X \\cdot A$"
      ],
      "text/plain": [
       "<IPython.core.display.Math object>"
      ]
     },
     "metadata": {},
     "output_type": "display_data"
    },
    {
     "data": {
      "text/latex": [
       "$\\displaystyle C = \\left[\\begin{matrix}a_{1} x_{1} + a_{3} x_{2} & a_{2} x_{1} + a_{4} x_{2}\\\\a_{1} x_{3} + a_{3} x_{4} & a_{2} x_{3} + a_{4} x_{4}\\end{matrix}\\right]$"
      ],
      "text/plain": [
       "<IPython.core.display.Math object>"
      ]
     },
     "metadata": {},
     "output_type": "display_data"
    },
    {
     "name": "stdout",
     "output_type": "stream",
     "text": [
      "\n",
      "\n",
      "Salida de la Funcion Vectorial:\n"
     ]
    },
    {
     "data": {
      "text/latex": [
       "$\\displaystyle F(X) = C \\cdot X^T$"
      ],
      "text/plain": [
       "<IPython.core.display.Math object>"
      ]
     },
     "metadata": {},
     "output_type": "display_data"
    },
    {
     "data": {
      "text/latex": [
       "$\\displaystyle F(X) = \\left[\\begin{matrix}x_{1} \\left(a_{1} x_{1} + a_{3} x_{2}\\right) + x_{2} \\left(a_{2} x_{1} + a_{4} x_{2}\\right) & x_{3} \\left(a_{1} x_{1} + a_{3} x_{2}\\right) + x_{4} \\left(a_{2} x_{1} + a_{4} x_{2}\\right)\\\\x_{1} \\left(a_{1} x_{3} + a_{3} x_{4}\\right) + x_{2} \\left(a_{2} x_{3} + a_{4} x_{4}\\right) & x_{3} \\left(a_{1} x_{3} + a_{3} x_{4}\\right) + x_{4} \\left(a_{2} x_{3} + a_{4} x_{4}\\right)\\end{matrix}\\right]$"
      ],
      "text/plain": [
       "<IPython.core.display.Math object>"
      ]
     },
     "metadata": {},
     "output_type": "display_data"
    },
    {
     "name": "stdout",
     "output_type": "stream",
     "text": [
      "\n",
      "\n",
      "Jacobiana Simbolica:\n"
     ]
    },
    {
     "data": {
      "text/latex": [
       "$\\displaystyle J_X = \\begin{bmatrix}\\frac{\\partial F}{\\partial X_{1,1}} & \\frac{\\partial F}{\\partial X_{1,2}} & \\frac{\\partial F}{\\partial X_{1,3}} & \\frac{\\partial F}{\\partial X_{1,4}} \\\\[1pt] \\\\\\frac{\\partial F}{\\partial X_{2,1}} & \\frac{\\partial F}{\\partial X_{2,2}} & \\frac{\\partial F}{\\partial X_{2,3}} & \\frac{\\partial F}{\\partial X_{2,4}} \\\\[1pt] \\\\\\frac{\\partial F}{\\partial X_{3,1}} & \\frac{\\partial F}{\\partial X_{3,2}} & \\frac{\\partial F}{\\partial X_{3,3}} & \\frac{\\partial F}{\\partial X_{3,4}} \\\\[1pt]\\end{bmatrix}$"
      ],
      "text/plain": [
       "<IPython.core.display.Math object>"
      ]
     },
     "metadata": {},
     "output_type": "display_data"
    },
    {
     "data": {
      "text/latex": [
       "$\\displaystyle J_X = \\begin{bmatrix}\\frac{\\partial F}{\\partial x_{1}} & \\frac{\\partial F}{\\partial x_{2}} & \\frac{\\partial F}{\\partial x_{3}} & \\frac{\\partial F}{\\partial x_{4}} \\\\[1pt] \\\\\\frac{\\partial F}{\\partial x_{5}} & \\frac{\\partial F}{\\partial x_{6}} & \\frac{\\partial F}{\\partial x_{7}} & \\frac{\\partial F}{\\partial x_{8}} \\\\[1pt] \\\\\\frac{\\partial F}{\\partial x_{9}} & \\frac{\\partial F}{\\partial x_{10}} & \\frac{\\partial F}{\\partial x_{11}} & \\frac{\\partial F}{\\partial x_{12}} \\\\[1pt]\\end{bmatrix}$"
      ],
      "text/plain": [
       "<IPython.core.display.Math object>"
      ]
     },
     "metadata": {},
     "output_type": "display_data"
    },
    {
     "data": {
      "text/latex": [
       "$\\displaystyle J_X = \\left[\\begin{matrix}2 a_{1} x_{1} + a_{2} x_{2} + a_{3} x_{2} & 0 & a_{2} x_{1} + a_{3} x_{1} + 2 a_{4} x_{2} & 0\\\\a_{1} x_{3} + a_{3} x_{4} & a_{1} x_{1} + a_{2} x_{2} & a_{2} x_{3} + a_{4} x_{4} & a_{3} x_{1} + a_{4} x_{2}\\\\a_{1} x_{3} + a_{2} x_{4} & a_{1} x_{1} + a_{3} x_{2} & a_{3} x_{3} + a_{4} x_{4} & a_{2} x_{1} + a_{4} x_{2}\\\\0 & 2 a_{1} x_{3} + a_{2} x_{4} + a_{3} x_{4} & 0 & a_{2} x_{3} + a_{3} x_{3} + 2 a_{4} x_{4}\\end{matrix}\\right]$"
      ],
      "text/plain": [
       "<IPython.core.display.Math object>"
      ]
     },
     "metadata": {},
     "output_type": "display_data"
    },
    {
     "name": "stdout",
     "output_type": "stream",
     "text": [
      "\n",
      "\n",
      "Jacobiana Formula:\n"
     ]
    },
    {
     "data": {
      "text/latex": [
       "$\\displaystyle J_X = (I \\otimes XC) \\cdot K_{m, n} + (CX^T)^T \\otimes I$"
      ],
      "text/plain": [
       "<IPython.core.display.Math object>"
      ]
     },
     "metadata": {},
     "output_type": "display_data"
    },
    {
     "data": {
      "text/latex": [
       "$\\displaystyle J_X = \\left[\\begin{matrix}2 a_{1} x_{1} + a_{2} x_{2} + a_{3} x_{2} & 0 & a_{2} x_{1} + a_{3} x_{1} + 2 a_{4} x_{2} & 0\\\\a_{1} x_{3} + a_{3} x_{4} & a_{1} x_{1} + a_{2} x_{2} & a_{2} x_{3} + a_{4} x_{4} & a_{3} x_{1} + a_{4} x_{2}\\\\a_{1} x_{3} + a_{2} x_{4} & a_{1} x_{1} + a_{3} x_{2} & a_{3} x_{3} + a_{4} x_{4} & a_{2} x_{1} + a_{4} x_{2}\\\\0 & 2 a_{1} x_{3} + a_{2} x_{4} + a_{3} x_{4} & 0 & a_{2} x_{3} + a_{3} x_{3} + 2 a_{4} x_{4}\\end{matrix}\\right]$"
      ],
      "text/plain": [
       "<IPython.core.display.Math object>"
      ]
     },
     "metadata": {},
     "output_type": "display_data"
    }
   ],
   "source": [
    "# Definimos los coeficientes de ambas matrices\n",
    "\n",
    "a1, a2, a3, a4 = sympy.symbols(names = 'a_{1} a_{2} a_{3} a_{4}')\n",
    "x1, x2, x3, x4 = sympy.symbols(names = 'x_{1} x_{2} x_{3} x_{4}')\n",
    "\n",
    "# Definimos las matrices\n",
    "\n",
    "A = sympy.Matrix([[a1, a2], [a3, a4]])\n",
    "X = sympy.Matrix([[x1, x2], [x3, x4]])\n",
    "\n",
    "# Definimos la Funcion Vectorial\n",
    "\n",
    "fn = X @ A @ X.T\n",
    "\n",
    "# Calculamos la Jacobiana Simbolica \n",
    "\n",
    "jacobian_symbolic_teory_1 = sympy.Matrix.zeros(X.shape[0] * fn.shape[0], X.shape[1] * fn.shape[1])\n",
    "jacobian_symbolic_teory_2 = sympy.Matrix.zeros(X.shape[0] * fn.shape[0], X.shape[1] * fn.shape[1])\n",
    "\n",
    "for row_output in range(fn.shape[0]):\n",
    "    for col_output in range(fn.shape[1]):\n",
    "        for row_input in range(X.shape[0]):\n",
    "            for col_input in range(X.shape[1]):\n",
    "                \n",
    "                jacobian_row = row_output * fn.shape[1] + col_output\n",
    "                jacobian_col = row_input * X.shape[1] + col_input\n",
    "                \n",
    "                jacobian_symbolic_teory_1[jacobian_row, jacobian_col] = sympy.Symbol(fr\"\\frac{{\\partial F_{{{col_output+1},{row_output+1}}}}}{{\\partial X_{{{col_input+1},{row_input+1}}}}}\")\n",
    "                jacobian_symbolic_teory_2[jacobian_row, jacobian_col] = sympy.Symbol(fr\"\\frac{{\\partial F_{{{col_output+1},{row_output+1}}}}}{{\\partial {X[col_input, row_input]}}}\")\n",
    "\n",
    "jacobian_symbolic_latex_1 = r\"\\begin{bmatrix}\" + r\" \\\\[5pt]\".join(\" & \".join(str(jacobian_symbolic_teory_1[row, col]) for col in range(jacobian_symbolic_teory_1.shape[1]))\n",
    "                                                                  for row in range(jacobian_symbolic_teory_1.shape[0])) + r\"\\end{bmatrix}\"\n",
    "\n",
    "jacobian_symbolic_latex_2 = r\"\\begin{bmatrix}\" + r\" \\\\[5pt]\".join(\" & \".join(str(jacobian_symbolic_teory_2[row, col]) for col in range(jacobian_symbolic_teory_2.shape[1]))\n",
    "                                                                  for row in range(jacobian_symbolic_teory_2.shape[0])) + r\"\\end{bmatrix}\"\n",
    "\n",
    "# Calculamos la Jacobiana\n",
    "\n",
    "jacobian = sympy.Matrix.zeros(fn.shape[0] * fn.shape[1], X.shape[0] * X.shape[1])\n",
    "\n",
    "for row_output in range(fn.shape[0]):\n",
    "    for col_output in range(fn.shape[1]):\n",
    "        for row_input in range(X.shape[0]):\n",
    "            for col_input in range(X.shape[1]):\n",
    "                \n",
    "                jacobian_row = row_output * fn.shape[1] + col_output\n",
    "                jacobian_col = row_input * X.shape[1] + col_input\n",
    "                \n",
    "                jacobian[jacobian_row, jacobian_col] = sympy.diff(fn[col_output, row_output], X[col_input, row_input])\n",
    "\n",
    "# Calculamos la Jacobiana por Formula (Recordamos cuando aparezca dX.T, tenemos que reorganizar la matriz)\n",
    "\n",
    "I = sympy.Matrix.eye(X.shape[0])\n",
    "\n",
    "n = A.shape[0]\n",
    "m = X.shape[1]\n",
    "\n",
    "commuted_indices = sympy.Matrix([[i + j*n for i in range(m)] for j in range(n)]).T\n",
    "\n",
    "term_1 = sympy.kronecker_product(I, (X @ A))\n",
    "term1_commuted = term_1[:, commuted_indices]\n",
    "\n",
    "jacobian_formula = term1_commuted + sympy.kronecker_product((A @ X.T).T, I)\n",
    "\n",
    "# Visualizamos resultados\n",
    "\n",
    "print('Funcion Vectorial:')\n",
    "display(Math('F(X) = X \\cdot A \\cdot X^T'))\n",
    "print(f'\\n')\n",
    "print('Definicion de Matrices:')\n",
    "display(Math(f\"A = {latex(A)}, \\\\quad X = {latex(X)}\"))\n",
    "print(f'\\n')\n",
    "print(f'Operacion #1:')\n",
    "display(Math('C = X \\cdot A'))\n",
    "display(Math(f\"C = {latex(X @ A)}\"))\n",
    "print(f'\\n')\n",
    "print(f'Salida de la Funcion Vectorial:')\n",
    "display(Math('F(X) = C \\cdot X^T'))\n",
    "display(Math(f\"F(X) = {latex(fn)}\"))\n",
    "print(f'\\n')\n",
    "print('Jacobiana Simbolica:')\n",
    "display(Math(r\"J_X = \" + gradient_symbolic_latex_1))\n",
    "display(Math(r\"J_X = \" + gradient_symbolic_latex_2))\n",
    "display(Math(r\"J_X = \" + latex(jacobian)))\n",
    "print(f'\\n')\n",
    "print('Jacobiana Formula:')\n",
    "display(Math(r\"J_X = (I \\otimes XC) \\cdot K_{m, n} + (CX^T)^T \\otimes I\"))\n",
    "display(Math(r\"J_X = \" + latex(jacobian_formula)))"
   ]
  },
  {
   "cell_type": "code",
   "execution_count": 13,
   "metadata": {},
   "outputs": [
    {
     "name": "stdout",
     "output_type": "stream",
     "text": [
      "La Jacobiana Respecto a X: \n",
      "tensor([[ 44.,   0.,  42.,   0.],\n",
      "        [ 44.,  26.,  55.,  19.],\n",
      "        [ 60.,  18.,  43.,  23.],\n",
      "        [  0., 104.,   0.,  98.]])\n"
     ]
    }
   ],
   "source": [
    "# Definimos Nuestras Matrices\n",
    "\n",
    "X = torch.tensor([[1.0, 2.0], [3.0, 4.0]]) \n",
    "A = torch.tensor([[8.0, 9.0], [5.0, 7.0]]) \n",
    "\n",
    "# Definimos la Funcion Vectorial\n",
    "\n",
    "def Fn(X, A):   \n",
    "    \n",
    "    output = torch.matmul(X, A)\n",
    "    output = torch.matmul(output, X.T)\n",
    "    \n",
    "    return output\n",
    "\n",
    "# Calculamos la Matriz Jacobiana \n",
    "\n",
    "jacobian = jacrev(Fn, argnums = 0)(X, A)\n",
    "\n",
    "# Redimensionamos (Cada sub-matrix de salida representa una columna de la matriz jacbianda definitiva)\n",
    "\n",
    "new_shape = (jacobian.shape[0] * jacobian.shape[1], jacobian.shape[2] * jacobian.shape[3])\n",
    "\n",
    "jacobian = jacobian.T.permute(2, 3, 0, 1).reshape(new_shape)\n",
    "\n",
    "# Visualizamos un ejemplo numerico\n",
    "\n",
    "print(f'La Jacobiana Respecto a X: \\n{jacobian}')"
   ]
  }
 ],
 "metadata": {
  "kernelspec": {
   "display_name": "MatrixCalculus",
   "language": "python",
   "name": "python3"
  },
  "language_info": {
   "codemirror_mode": {
    "name": "ipython",
    "version": 3
   },
   "file_extension": ".py",
   "mimetype": "text/x-python",
   "name": "python",
   "nbconvert_exporter": "python",
   "pygments_lexer": "ipython3",
   "version": "3.10.15"
  }
 },
 "nbformat": 4,
 "nbformat_minor": 2
}
